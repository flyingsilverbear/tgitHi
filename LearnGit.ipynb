{
 "cells": [
  {
   "cell_type": "markdown",
   "metadata": {},
   "source": [
    "# Learn Git\n",
    "\n",
    "## Basic Operator\n",
    "\n",
    "1. git clone\n",
    "2. git remote\n",
    "3. git fetch\n",
    "4. git pull\n",
    "5. git push\n",
    "\n",
    "### git clone\n",
    "远程操作的第一步，通常是从远程主机克隆一个版本库:\n",
    "\n",
    "\n",
    "git clone git@github.com:flyingsilverbear/tgitHi.git\n",
    "\n",
    "### git remote\n",
    "\n",
    "为了便于管理，Git要求每个远程主机都必须制定一个主机名。’Git remote’ 命令就用与管理主机名。\n",
    "\n",
    "### git fetch\n",
    "\n",
    "一旦远程主机版本库有了更新(Git术语叫做commit),需要将这些更新全部取回本地，这时就用到'git fetch'命令。\n",
    "\n",
    "'git fetch <远程主机名>'\n",
    "\n",
    "上面的命令是将某个远程主机的更新，全部取回本地。\n",
    "\n",
    "‘git fetch'命令通常用来查看其他人的进程，因为它取回的代码对你本地的开发代码没有影响。默认情况下，'git fetch'取回所有分支的更新。如果只想取回特点分支的更新，可以指定分支名。\n",
    "\n",
    "’git fetch <远程主机名> <分支名>\n",
    "\n",
    "所取回的更新，在本地主机上要用\"远程主机名/分支名\"的形式读取\n",
    "\n",
    "\n",
    "### git pull\n",
    "\n",
    "'git pull'命令的作用是， 取回远程主机某个分支的更新，再与本地的指定分支合并。\n",
    "\n",
    "比如，取回'origin'主机的'next'分支，与本地的'master'分支合并，需要写成下面这样：\n",
    "\n",
    "'git pull origin next:master'\n",
    "\n",
    "如果远程分支是与当前分支合并，则冒号后面的部分可以省略。\n",
    "\n",
    "### git push\n",
    "\n",
    "'git push'命令用于将本地分支的更新，推送到远程主机。它的格式与'git pull'命令相仿。例如，将本地的'master'分支推送到远程主机'origin'的'master'分支。如果后者不存在，则会被创建\n",
    "\n",
    "'git push origin master'\n",
    "\n"
   ]
  }
 ],
 "metadata": {
  "kernelspec": {
   "display_name": "Python 3",
   "language": "python",
   "name": "python3"
  },
  "language_info": {
   "codemirror_mode": {
    "name": "ipython",
    "version": 3
   },
   "file_extension": ".py",
   "mimetype": "text/x-python",
   "name": "python",
   "nbconvert_exporter": "python",
   "pygments_lexer": "ipython3",
   "version": "3.6.0"
  }
 },
 "nbformat": 4,
 "nbformat_minor": 2
}
